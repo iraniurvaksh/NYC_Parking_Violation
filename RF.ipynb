{
 "cells": [
  {
   "cell_type": "code",
   "execution_count": 124,
   "id": "22c61554",
   "metadata": {},
   "outputs": [],
   "source": [
    "import pandas as pd\n",
    "import numpy as np"
   ]
  },
  {
   "cell_type": "code",
   "execution_count": 200,
   "id": "8c6e321a",
   "metadata": {},
   "outputs": [
    {
     "data": {
      "text/html": [
       "<div>\n",
       "<style scoped>\n",
       "    .dataframe tbody tr th:only-of-type {\n",
       "        vertical-align: middle;\n",
       "    }\n",
       "\n",
       "    .dataframe tbody tr th {\n",
       "        vertical-align: top;\n",
       "    }\n",
       "\n",
       "    .dataframe thead th {\n",
       "        text-align: right;\n",
       "    }\n",
       "</style>\n",
       "<table border=\"1\" class=\"dataframe\">\n",
       "  <thead>\n",
       "    <tr style=\"text-align: right;\">\n",
       "      <th></th>\n",
       "      <th>Unnamed: 0</th>\n",
       "      <th>Registration State</th>\n",
       "      <th>Plate Type</th>\n",
       "      <th>Vehicle Body Type</th>\n",
       "      <th>Vehicle Make</th>\n",
       "      <th>Violation Location</th>\n",
       "      <th>Violation County</th>\n",
       "      <th>Intersecting Street</th>\n",
       "      <th>Vehicle Color</th>\n",
       "      <th>Vehicle Year</th>\n",
       "      <th>fine_category</th>\n",
       "    </tr>\n",
       "  </thead>\n",
       "  <tbody>\n",
       "    <tr>\n",
       "      <th>0</th>\n",
       "      <td>1</td>\n",
       "      <td>NY</td>\n",
       "      <td>COM</td>\n",
       "      <td>VAN</td>\n",
       "      <td>FRUEH</td>\n",
       "      <td>34.0</td>\n",
       "      <td>NY</td>\n",
       "      <td>0ft E/of Haven Ave</td>\n",
       "      <td>BROWN</td>\n",
       "      <td>2012</td>\n",
       "      <td>&gt;80</td>\n",
       "    </tr>\n",
       "    <tr>\n",
       "      <th>1</th>\n",
       "      <td>2</td>\n",
       "      <td>NY</td>\n",
       "      <td>COM</td>\n",
       "      <td>DELV</td>\n",
       "      <td>INTER</td>\n",
       "      <td>9.0</td>\n",
       "      <td>NY</td>\n",
       "      <td>0ft E/of Avenue A</td>\n",
       "      <td>BLUE</td>\n",
       "      <td>2015</td>\n",
       "      <td>&gt;80</td>\n",
       "    </tr>\n",
       "    <tr>\n",
       "      <th>2</th>\n",
       "      <td>9</td>\n",
       "      <td>NY</td>\n",
       "      <td>PAS</td>\n",
       "      <td>OTHER</td>\n",
       "      <td>ME/BE</td>\n",
       "      <td>62.0</td>\n",
       "      <td>K</td>\n",
       "      <td>0ft W/of 78th St</td>\n",
       "      <td>BLACK</td>\n",
       "      <td>2010</td>\n",
       "      <td>&gt;80</td>\n",
       "    </tr>\n",
       "    <tr>\n",
       "      <th>3</th>\n",
       "      <td>13</td>\n",
       "      <td>NY</td>\n",
       "      <td>PAS</td>\n",
       "      <td>SUBN</td>\n",
       "      <td>JEEP</td>\n",
       "      <td>30.0</td>\n",
       "      <td>NY</td>\n",
       "      <td>7ft W/of Broadway</td>\n",
       "      <td>OTHER</td>\n",
       "      <td>2008</td>\n",
       "      <td>&gt;80</td>\n",
       "    </tr>\n",
       "    <tr>\n",
       "      <th>4</th>\n",
       "      <td>15</td>\n",
       "      <td>NY</td>\n",
       "      <td>OMT</td>\n",
       "      <td>SUBN</td>\n",
       "      <td>NISSA</td>\n",
       "      <td>70.0</td>\n",
       "      <td>K</td>\n",
       "      <td>ALBERMARLE RD</td>\n",
       "      <td>WHITE</td>\n",
       "      <td>2011</td>\n",
       "      <td>&gt;80</td>\n",
       "    </tr>\n",
       "  </tbody>\n",
       "</table>\n",
       "</div>"
      ],
      "text/plain": [
       "   Unnamed: 0 Registration State Plate Type Vehicle Body Type Vehicle Make  \\\n",
       "0           1                 NY        COM               VAN        FRUEH   \n",
       "1           2                 NY        COM              DELV        INTER   \n",
       "2           9                 NY        PAS             OTHER        ME/BE   \n",
       "3          13                 NY        PAS              SUBN         JEEP   \n",
       "4          15                 NY        OMT              SUBN        NISSA   \n",
       "\n",
       "   Violation Location Violation County Intersecting Street Vehicle Color  \\\n",
       "0                34.0               NY  0ft E/of Haven Ave         BROWN   \n",
       "1                 9.0               NY   0ft E/of Avenue A          BLUE   \n",
       "2                62.0                K    0ft W/of 78th St         BLACK   \n",
       "3                30.0               NY   7ft W/of Broadway         OTHER   \n",
       "4                70.0                K       ALBERMARLE RD         WHITE   \n",
       "\n",
       "   Vehicle Year fine_category  \n",
       "0          2012           >80  \n",
       "1          2015           >80  \n",
       "2          2010           >80  \n",
       "3          2008           >80  \n",
       "4          2011           >80  "
      ]
     },
     "execution_count": 200,
     "metadata": {},
     "output_type": "execute_result"
    }
   ],
   "source": [
    "df = pd.read_csv('RF.csv')\n",
    "df.head()"
   ]
  },
  {
   "cell_type": "code",
   "execution_count": 201,
   "id": "b8ab7279",
   "metadata": {},
   "outputs": [],
   "source": [
    "df.drop(['Unnamed: 0','Intersecting Street','Violation Location'], inplace=True, axis=1)"
   ]
  },
  {
   "cell_type": "code",
   "execution_count": 202,
   "id": "1f6fbfff",
   "metadata": {},
   "outputs": [],
   "source": [
    "df = df.sample(n=100000,replace=False)"
   ]
  },
  {
   "cell_type": "code",
   "execution_count": 203,
   "id": "5291e725",
   "metadata": {},
   "outputs": [
    {
     "name": "stdout",
     "output_type": "stream",
     "text": [
      "Registration State : ['NY' 'NJ' 'OTHER' 'CT' 'PA' 'FL' 'VA']\n",
      "Plate Type : ['COM' 'PAS' 'OMT' 'IRP' 'OTHER' 'OMS']\n",
      "Vehicle Body Type : ['VAN' 'SUBN' '4DSD' 'OTHER' 'PICK' 'DELV' 'TAXI']\n",
      "Vehicle Make : ['FORD' 'ME/BE' 'GMC' 'NISSA' 'HONDA' 'OTHER' 'TOYOT' 'FRUEH' 'CHEVR'\n",
      " 'LEXUS' 'BMW' 'JEEP' 'HYUND' 'INTER']\n",
      "Violation County : ['NY' 'K' 'QNS' 'BX' 'R']\n",
      "Vehicle Color : ['WHITE' 'BLACK' 'BLUE' 'GREY' 'GREEN' 'OTHER' 'RED' 'SILVE' 'BROWN']\n",
      "Vehicle Year : [2007 2017 2015 2009 2014 2002 2011 2013 2003 2016 2005 2010 2001 2006\n",
      " 2012 2008 2004]\n",
      "fine_category : ['0-80' '>80']\n"
     ]
    }
   ],
   "source": [
    "for col in df.columns:\n",
    "    print(col,\":\",df[col].unique())"
   ]
  },
  {
   "cell_type": "code",
   "execution_count": 204,
   "id": "9bb7a573",
   "metadata": {},
   "outputs": [],
   "source": [
    "from sklearn.preprocessing import LabelEncoder"
   ]
  },
  {
   "cell_type": "code",
   "execution_count": 205,
   "id": "77e7aafd",
   "metadata": {},
   "outputs": [],
   "source": [
    "le = LabelEncoder()"
   ]
  },
  {
   "cell_type": "code",
   "execution_count": 206,
   "id": "52627c2b",
   "metadata": {},
   "outputs": [
    {
     "data": {
      "text/html": [
       "<div>\n",
       "<style scoped>\n",
       "    .dataframe tbody tr th:only-of-type {\n",
       "        vertical-align: middle;\n",
       "    }\n",
       "\n",
       "    .dataframe tbody tr th {\n",
       "        vertical-align: top;\n",
       "    }\n",
       "\n",
       "    .dataframe thead th {\n",
       "        text-align: right;\n",
       "    }\n",
       "</style>\n",
       "<table border=\"1\" class=\"dataframe\">\n",
       "  <thead>\n",
       "    <tr style=\"text-align: right;\">\n",
       "      <th></th>\n",
       "      <th>Registration State</th>\n",
       "      <th>Plate Type</th>\n",
       "      <th>Vehicle Body Type</th>\n",
       "      <th>Vehicle Make</th>\n",
       "      <th>Violation County</th>\n",
       "      <th>Vehicle Color</th>\n",
       "      <th>Vehicle Year</th>\n",
       "      <th>fine_category</th>\n",
       "    </tr>\n",
       "  </thead>\n",
       "  <tbody>\n",
       "    <tr>\n",
       "      <th>21641</th>\n",
       "      <td>NY</td>\n",
       "      <td>COM</td>\n",
       "      <td>VAN</td>\n",
       "      <td>FORD</td>\n",
       "      <td>NY</td>\n",
       "      <td>WHITE</td>\n",
       "      <td>2007</td>\n",
       "      <td>0-80</td>\n",
       "    </tr>\n",
       "    <tr>\n",
       "      <th>44050</th>\n",
       "      <td>NY</td>\n",
       "      <td>PAS</td>\n",
       "      <td>SUBN</td>\n",
       "      <td>ME/BE</td>\n",
       "      <td>K</td>\n",
       "      <td>BLACK</td>\n",
       "      <td>2017</td>\n",
       "      <td>0-80</td>\n",
       "    </tr>\n",
       "    <tr>\n",
       "      <th>287372</th>\n",
       "      <td>NY</td>\n",
       "      <td>OMT</td>\n",
       "      <td>4DSD</td>\n",
       "      <td>ME/BE</td>\n",
       "      <td>NY</td>\n",
       "      <td>BLUE</td>\n",
       "      <td>2015</td>\n",
       "      <td>&gt;80</td>\n",
       "    </tr>\n",
       "    <tr>\n",
       "      <th>197833</th>\n",
       "      <td>NY</td>\n",
       "      <td>COM</td>\n",
       "      <td>VAN</td>\n",
       "      <td>GMC</td>\n",
       "      <td>NY</td>\n",
       "      <td>WHITE</td>\n",
       "      <td>2009</td>\n",
       "      <td>&gt;80</td>\n",
       "    </tr>\n",
       "    <tr>\n",
       "      <th>20981</th>\n",
       "      <td>NY</td>\n",
       "      <td>PAS</td>\n",
       "      <td>SUBN</td>\n",
       "      <td>NISSA</td>\n",
       "      <td>QNS</td>\n",
       "      <td>GREY</td>\n",
       "      <td>2014</td>\n",
       "      <td>0-80</td>\n",
       "    </tr>\n",
       "  </tbody>\n",
       "</table>\n",
       "</div>"
      ],
      "text/plain": [
       "       Registration State Plate Type Vehicle Body Type Vehicle Make  \\\n",
       "21641                  NY        COM               VAN         FORD   \n",
       "44050                  NY        PAS              SUBN        ME/BE   \n",
       "287372                 NY        OMT              4DSD        ME/BE   \n",
       "197833                 NY        COM               VAN          GMC   \n",
       "20981                  NY        PAS              SUBN        NISSA   \n",
       "\n",
       "       Violation County Vehicle Color  Vehicle Year fine_category  \n",
       "21641                NY         WHITE          2007          0-80  \n",
       "44050                 K         BLACK          2017          0-80  \n",
       "287372               NY          BLUE          2015           >80  \n",
       "197833               NY         WHITE          2009           >80  \n",
       "20981               QNS          GREY          2014          0-80  "
      ]
     },
     "execution_count": 206,
     "metadata": {},
     "output_type": "execute_result"
    }
   ],
   "source": [
    "df.head()"
   ]
  },
  {
   "cell_type": "code",
   "execution_count": 207,
   "id": "3387a388",
   "metadata": {},
   "outputs": [],
   "source": [
    "df['Registration State'] = le.fit_transform(df['Registration State']) \n",
    "df['Plate Type'] = le.fit_transform(df['Plate Type']) \n",
    "df['Vehicle Body Type'] = le.fit_transform(df['Vehicle Body Type']) \n",
    "df['Vehicle Make'] = le.fit_transform(df['Vehicle Make']) \n",
    "df['Violation County'] = le.fit_transform(df['Violation County']) \n",
    "df['Vehicle Color'] = le.fit_transform(df['Vehicle Color']) \n",
    "df['Vehicle Year'] = le.fit_transform(df['Vehicle Year'])\n",
    "#df['Street Name'] = le.fit_transform(df['Street Name'])"
   ]
  },
  {
   "cell_type": "code",
   "execution_count": 213,
   "id": "433d2130",
   "metadata": {},
   "outputs": [
    {
     "data": {
      "text/plain": [
       "LabelEncoder()"
      ]
     },
     "execution_count": 213,
     "metadata": {},
     "output_type": "execute_result"
    }
   ],
   "source": [
    "from sklearn import preprocessing\n",
    "le = preprocessing.LabelEncoder()\n",
    "le.fit(df['fine_category'])"
   ]
  },
  {
   "cell_type": "code",
   "execution_count": 214,
   "id": "5d1e3bd5",
   "metadata": {},
   "outputs": [],
   "source": [
    "df['fine_category'] = le.transform(df['fine_category'])"
   ]
  },
  {
   "cell_type": "code",
   "execution_count": 216,
   "id": "31200dba",
   "metadata": {},
   "outputs": [
    {
     "data": {
      "text/plain": [
       "1    52987\n",
       "0    47013\n",
       "Name: fine_category, dtype: int64"
      ]
     },
     "execution_count": 216,
     "metadata": {},
     "output_type": "execute_result"
    }
   ],
   "source": [
    "df['fine_category'].value_counts()"
   ]
  },
  {
   "cell_type": "code",
   "execution_count": 217,
   "id": "ad0ba449",
   "metadata": {},
   "outputs": [],
   "source": [
    "# Split into Predictors and Response variable\n",
    "\n",
    "X = df.drop(columns=[\"fine_category\"])\n",
    "Y = df[[\"fine_category\"]]"
   ]
  },
  {
   "cell_type": "code",
   "execution_count": 221,
   "id": "98fb51b6",
   "metadata": {},
   "outputs": [],
   "source": [
    "#Split into Train and Test set \n",
    "\n",
    "from sklearn.model_selection import train_test_split\n",
    "X_train, X_test, y_train, y_test = train_test_split(X, Y, test_size=0.3)"
   ]
  },
  {
   "cell_type": "code",
   "execution_count": 222,
   "id": "bf9e95d6",
   "metadata": {},
   "outputs": [],
   "source": [
    "#Creating and fitting the model\n",
    "\n",
    "from sklearn.ensemble import RandomForestClassifier\n",
    "\n",
    "rfc = RandomForestClassifier(100)\n",
    "\n",
    "model1 = rfc.fit(X_train, np.ravel(y_train))\n",
    "prediction1 = model1.predict(X_test)\n"
   ]
  },
  {
   "cell_type": "code",
   "execution_count": 223,
   "id": "5dda8cb9",
   "metadata": {},
   "outputs": [
    {
     "name": "stdout",
     "output_type": "stream",
     "text": [
      "Accuracy on training data: 0.752\n",
      "Accuracy on test data: 0.643\n"
     ]
    }
   ],
   "source": [
    "print(\"Accuracy on training data: {:,.3f}\".format(rfc.score(X_train, y_train)))\n",
    "print(\"Accuracy on test data: {:,.3f}\".format(rfc.score(X_test, y_test)))"
   ]
  },
  {
   "cell_type": "code",
   "execution_count": null,
   "id": "dbb25ce6",
   "metadata": {},
   "outputs": [],
   "source": []
  },
  {
   "cell_type": "code",
   "execution_count": null,
   "id": "a0145573",
   "metadata": {},
   "outputs": [],
   "source": []
  },
  {
   "cell_type": "code",
   "execution_count": null,
   "id": "07889bd0",
   "metadata": {},
   "outputs": [],
   "source": []
  },
  {
   "cell_type": "code",
   "execution_count": null,
   "id": "2c839014",
   "metadata": {},
   "outputs": [],
   "source": []
  },
  {
   "cell_type": "code",
   "execution_count": null,
   "id": "f4c51f8b",
   "metadata": {},
   "outputs": [],
   "source": []
  },
  {
   "cell_type": "code",
   "execution_count": null,
   "id": "6ed4038b",
   "metadata": {},
   "outputs": [],
   "source": []
  }
 ],
 "metadata": {
  "kernelspec": {
   "display_name": "Python 3 (ipykernel)",
   "language": "python",
   "name": "python3"
  },
  "language_info": {
   "codemirror_mode": {
    "name": "ipython",
    "version": 3
   },
   "file_extension": ".py",
   "mimetype": "text/x-python",
   "name": "python",
   "nbconvert_exporter": "python",
   "pygments_lexer": "ipython3",
   "version": "3.9.7"
  }
 },
 "nbformat": 4,
 "nbformat_minor": 5
}
